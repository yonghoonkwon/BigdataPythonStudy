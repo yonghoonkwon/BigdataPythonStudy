{
 "cells": [
  {
   "cell_type": "code",
   "execution_count": 5,
   "metadata": {},
   "outputs": [],
   "source": [
    "import numpy as np\n",
    "import pandas as pd"
   ]
  },
  {
   "cell_type": "code",
   "execution_count": 6,
   "metadata": {},
   "outputs": [
    {
     "data": {
      "text/html": [
       "<div>\n",
       "<style scoped>\n",
       "    .dataframe tbody tr th:only-of-type {\n",
       "        vertical-align: middle;\n",
       "    }\n",
       "\n",
       "    .dataframe tbody tr th {\n",
       "        vertical-align: top;\n",
       "    }\n",
       "\n",
       "    .dataframe thead th {\n",
       "        text-align: right;\n",
       "    }\n",
       "</style>\n",
       "<table border=\"1\" class=\"dataframe\">\n",
       "  <thead>\n",
       "    <tr style=\"text-align: right;\">\n",
       "      <th></th>\n",
       "      <th>관서명</th>\n",
       "      <th>살인 발생</th>\n",
       "      <th>살인 검거</th>\n",
       "      <th>강도 발생</th>\n",
       "      <th>강도 검거</th>\n",
       "      <th>강간 발생</th>\n",
       "      <th>강간 검거</th>\n",
       "      <th>절도 발생</th>\n",
       "      <th>절도 검거</th>\n",
       "      <th>폭력 발생</th>\n",
       "      <th>폭력 검거</th>\n",
       "    </tr>\n",
       "  </thead>\n",
       "  <tbody>\n",
       "    <tr>\n",
       "      <th>0</th>\n",
       "      <td>중부서</td>\n",
       "      <td>2</td>\n",
       "      <td>2</td>\n",
       "      <td>3</td>\n",
       "      <td>2</td>\n",
       "      <td>105</td>\n",
       "      <td>65</td>\n",
       "      <td>1395</td>\n",
       "      <td>477</td>\n",
       "      <td>1355</td>\n",
       "      <td>1170</td>\n",
       "    </tr>\n",
       "    <tr>\n",
       "      <th>1</th>\n",
       "      <td>종로서</td>\n",
       "      <td>3</td>\n",
       "      <td>3</td>\n",
       "      <td>6</td>\n",
       "      <td>5</td>\n",
       "      <td>115</td>\n",
       "      <td>98</td>\n",
       "      <td>1070</td>\n",
       "      <td>413</td>\n",
       "      <td>1278</td>\n",
       "      <td>1070</td>\n",
       "    </tr>\n",
       "    <tr>\n",
       "      <th>2</th>\n",
       "      <td>남대문서</td>\n",
       "      <td>1</td>\n",
       "      <td>0</td>\n",
       "      <td>6</td>\n",
       "      <td>4</td>\n",
       "      <td>65</td>\n",
       "      <td>46</td>\n",
       "      <td>1153</td>\n",
       "      <td>382</td>\n",
       "      <td>869</td>\n",
       "      <td>794</td>\n",
       "    </tr>\n",
       "    <tr>\n",
       "      <th>3</th>\n",
       "      <td>서대문서</td>\n",
       "      <td>2</td>\n",
       "      <td>2</td>\n",
       "      <td>5</td>\n",
       "      <td>4</td>\n",
       "      <td>154</td>\n",
       "      <td>124</td>\n",
       "      <td>1812</td>\n",
       "      <td>738</td>\n",
       "      <td>2056</td>\n",
       "      <td>1711</td>\n",
       "    </tr>\n",
       "    <tr>\n",
       "      <th>4</th>\n",
       "      <td>혜화서</td>\n",
       "      <td>3</td>\n",
       "      <td>2</td>\n",
       "      <td>5</td>\n",
       "      <td>4</td>\n",
       "      <td>96</td>\n",
       "      <td>63</td>\n",
       "      <td>1114</td>\n",
       "      <td>424</td>\n",
       "      <td>1015</td>\n",
       "      <td>861</td>\n",
       "    </tr>\n",
       "  </tbody>\n",
       "</table>\n",
       "</div>"
      ],
      "text/plain": [
       "    관서명  살인 발생  살인 검거  강도 발생  강도 검거  강간 발생  강간 검거  절도 발생  절도 검거  폭력 발생  폭력 검거\n",
       "0   중부서      2      2      3      2    105     65   1395    477   1355   1170\n",
       "1   종로서      3      3      6      5    115     98   1070    413   1278   1070\n",
       "2  남대문서      1      0      6      4     65     46   1153    382    869    794\n",
       "3  서대문서      2      2      5      4    154    124   1812    738   2056   1711\n",
       "4   혜화서      3      2      5      4     96     63   1114    424   1015    861"
      ]
     },
     "execution_count": 6,
     "metadata": {},
     "output_type": "execute_result"
    }
   ],
   "source": [
    "crime_anal_police = pd.read_csv('02. crime_in_Seoul.csv', thousands=',', \n",
    "                                encoding='euc-kr')\n",
    "crime_anal_police.head()"
   ]
  },
  {
   "cell_type": "code",
   "execution_count": 4,
   "metadata": {},
   "outputs": [
    {
     "data": {
      "text/plain": [
       "0      중부서\n",
       "1      종로서\n",
       "2     남대문서\n",
       "3     서대문서\n",
       "4      혜화서\n",
       "5      용산서\n",
       "6      성북서\n",
       "7     동대문서\n",
       "8      마포서\n",
       "9     영등포서\n",
       "10     성동서\n",
       "11     동작서\n",
       "12     광진서\n",
       "13     서부서\n",
       "14     강북서\n",
       "15     금천서\n",
       "16     중랑서\n",
       "17     강남서\n",
       "18     관악서\n",
       "19     강서서\n",
       "20     강동서\n",
       "21     종암서\n",
       "22     구로서\n",
       "23     서초서\n",
       "24     양천서\n",
       "25     송파서\n",
       "26     노원서\n",
       "27     방배서\n",
       "28     은평서\n",
       "29     도봉서\n",
       "30     수서서\n",
       "Name: 관서명, dtype: object"
      ]
     },
     "execution_count": 4,
     "metadata": {},
     "output_type": "execute_result"
    }
   ],
   "source": [
    "crime_anal_police['관서명']"
   ]
  },
  {
   "cell_type": "code",
   "execution_count": 7,
   "metadata": {},
   "outputs": [],
   "source": [
    "import googlemaps"
   ]
  },
  {
   "cell_type": "code",
   "execution_count": 8,
   "metadata": {},
   "outputs": [],
   "source": [
    "gmaps_key = \"*******************************\" # 자신의 key를 사용합니다.\n",
    "gmaps = googlemaps.Client(key=gmaps_key)"
   ]
  },
  {
   "cell_type": "code",
   "execution_count": 10,
   "metadata": {},
   "outputs": [
    {
     "data": {
      "text/plain": [
       "[{'address_components': [{'long_name': '２７',\n",
       "    'short_name': '２７',\n",
       "    'types': ['premise']},\n",
       "   {'long_name': '수표로',\n",
       "    'short_name': '수표로',\n",
       "    'types': ['political', 'sublocality', 'sublocality_level_4']},\n",
       "   {'long_name': '을지로동',\n",
       "    'short_name': '을지로동',\n",
       "    'types': ['political', 'sublocality', 'sublocality_level_2']},\n",
       "   {'long_name': '중구',\n",
       "    'short_name': '중구',\n",
       "    'types': ['political', 'sublocality', 'sublocality_level_1']},\n",
       "   {'long_name': '서울특별시',\n",
       "    'short_name': '서울특별시',\n",
       "    'types': ['administrative_area_level_1', 'political']},\n",
       "   {'long_name': '대한민국',\n",
       "    'short_name': 'KR',\n",
       "    'types': ['country', 'political']},\n",
       "   {'long_name': '100-032',\n",
       "    'short_name': '100-032',\n",
       "    'types': ['postal_code']}],\n",
       "  'formatted_address': '대한민국 서울특별시 중구 을지로동 수표로 27',\n",
       "  'geometry': {'location': {'lat': 37.5636465, 'lng': 126.9895796},\n",
       "   'location_type': 'ROOFTOP',\n",
       "   'viewport': {'northeast': {'lat': 37.56499548029149,\n",
       "     'lng': 126.9909285802915},\n",
       "    'southwest': {'lat': 37.56229751970849, 'lng': 126.9882306197085}}},\n",
       "  'place_id': 'ChIJc-9q5uSifDURLhQmr5wkXmc',\n",
       "  'types': ['establishment', 'point_of_interest', 'police']}]"
      ]
     },
     "execution_count": 10,
     "metadata": {},
     "output_type": "execute_result"
    }
   ],
   "source": [
    "gmaps.geocode('서울중부경찰서', language='ko')"
   ]
  },
  {
   "cell_type": "code",
   "execution_count": 9,
   "metadata": {},
   "outputs": [
    {
     "data": {
      "text/plain": [
       "['서울중부경찰서',\n",
       " '서울종로경찰서',\n",
       " '서울남대문경찰서',\n",
       " '서울서대문경찰서',\n",
       " '서울혜화경찰서',\n",
       " '서울용산경찰서',\n",
       " '서울성북경찰서',\n",
       " '서울동대문경찰서',\n",
       " '서울마포경찰서',\n",
       " '서울영등포경찰서',\n",
       " '서울성동경찰서',\n",
       " '서울동작경찰서',\n",
       " '서울광진경찰서',\n",
       " '서울서부경찰서',\n",
       " '서울강북경찰서',\n",
       " '서울금천경찰서',\n",
       " '서울중랑경찰서',\n",
       " '서울강남경찰서',\n",
       " '서울관악경찰서',\n",
       " '서울강서경찰서',\n",
       " '서울강동경찰서',\n",
       " '서울종암경찰서',\n",
       " '서울구로경찰서',\n",
       " '서울서초경찰서',\n",
       " '서울양천경찰서',\n",
       " '서울송파경찰서',\n",
       " '서울노원경찰서',\n",
       " '서울방배경찰서',\n",
       " '서울은평경찰서',\n",
       " '서울도봉경찰서',\n",
       " '서울수서경찰서']"
      ]
     },
     "execution_count": 9,
     "metadata": {},
     "output_type": "execute_result"
    }
   ],
   "source": [
    "station_name = []\n",
    "\n",
    "for name in crime_anal_police['관서명']:\n",
    "    station_name.append('서울' + str(name[:-1]) + '경찰서')\n",
    "\n",
    "station_name"
   ]
  },
  {
   "cell_type": "code",
   "execution_count": 10,
   "metadata": {},
   "outputs": [
    {
     "name": "stdout",
     "output_type": "stream",
     "text": [
      "서울중부경찰서-->대한민국 서울특별시 중구 을지로동 수표로 27\n",
      "서울종로경찰서-->대한민국 서울특별시 종로구 종로1.2.3.4가동 율곡로 46\n",
      "서울남대문경찰서-->대한민국 서울특별시 중구 남대문로5가 한강대로 410\n",
      "서울서대문경찰서-->대한민국 서울특별시 서대문구 미근동 통일로 113\n",
      "서울혜화경찰서-->대한민국 서울특별시 종로구 종로1.2.3.4가동 창경궁로 112-16\n",
      "서울용산경찰서-->대한민국 서울특별시 용산구 원효로1가 12-12\n",
      "서울성북경찰서-->대한민국 서울특별시 성북구 삼선동5가 301\n",
      "서울동대문경찰서-->대한민국 서울특별시 동대문구 청량리동 약령시로21길 29\n",
      "서울마포경찰서-->대한민국 서울특별시 마포구 아현동 618-1\n",
      "서울영등포경찰서-->대한민국 서울특별시 영등포구 당산동3가 2-11\n",
      "서울성동경찰서-->대한민국 서울특별시 성동구 행당1동 왕십리광장로 9\n",
      "서울동작경찰서-->대한민국 서울특별시 동작구 노량진동 72\n",
      "서울광진경찰서-->대한민국 서울특별시 광진구 구의1동 자양로 167\n",
      "서울서부경찰서-->대한민국 서울특별시 은평구 대조동 통일로 757\n",
      "서울강북경찰서-->대한민국 서울특별시 강북구 번1동 415-15\n",
      "서울금천경찰서-->대한민국 서울특별시 관악구 신림동 544\n",
      "서울중랑경찰서-->대한민국 서울특별시 중랑구 신내1동 신내역로3길 40-10\n",
      "서울강남경찰서-->대한민국 서울특별시 강남구 대치동 998\n",
      "서울관악경찰서-->대한민국 서울특별시 관악구 봉천동\n",
      "서울강서경찰서-->대한민국 서울특별시 양천구 신월동 화곡로 73\n",
      "서울강동경찰서-->대한민국 서울특별시 강동구 성내1동 성내로 57\n",
      "서울종암경찰서-->대한민국 서울특별시 성북구 종암동 종암로 135\n",
      "서울구로경찰서-->대한민국 서울특별시 구로구 가마산로 235\n",
      "서울서초경찰서-->대한민국 서울특별시 서초구 서초3동 반포대로 179\n",
      "서울양천경찰서-->대한민국 서울특별시 양천구 신정6동 목동동로 99\n",
      "서울송파경찰서-->대한민국 서울특별시 송파구 가락본동 9\n",
      "서울노원경찰서-->대한민국 서울특별시 노원구 하계동 노원로 283\n",
      "서울방배경찰서-->대한민국 서울특별시 서초구 방배2동 방배천로 54\n",
      "서울은평경찰서-->대한민국 서울특별시 은평구 불광2동 연서로 365\n",
      "서울도봉경찰서-->대한민국 서울특별시 도봉구 창4동 노해로 403\n",
      "서울수서경찰서-->대한민국 서울특별시 강남구 개포동 개포로 617\n"
     ]
    }
   ],
   "source": [
    "station_addreess = []\n",
    "station_lat = []\n",
    "station_lng = []\n",
    "\n",
    "for name in station_name:\n",
    "    tmp = gmaps.geocode(name, language='ko')\n",
    "    station_addreess.append(tmp[0].get(\"formatted_address\"))\n",
    "    \n",
    "    tmp_loc = tmp[0].get(\"geometry\")\n",
    "\n",
    "    station_lat.append(tmp_loc['location']['lat'])\n",
    "    station_lng.append(tmp_loc['location']['lng'])\n",
    "    \n",
    "    print(name + '-->' + tmp[0].get(\"formatted_address\"))"
   ]
  },
  {
   "cell_type": "code",
   "execution_count": 11,
   "metadata": {},
   "outputs": [
    {
     "data": {
      "text/plain": [
       "['대한민국 서울특별시 중구 을지로동 수표로 27',\n",
       " '대한민국 서울특별시 종로구 종로1.2.3.4가동 율곡로 46',\n",
       " '대한민국 서울특별시 중구 남대문로5가 한강대로 410',\n",
       " '대한민국 서울특별시 서대문구 미근동 통일로 113',\n",
       " '대한민국 서울특별시 종로구 종로1.2.3.4가동 창경궁로 112-16',\n",
       " '대한민국 서울특별시 용산구 원효로1가 12-12',\n",
       " '대한민국 서울특별시 성북구 삼선동5가 301',\n",
       " '대한민국 서울특별시 동대문구 청량리동 약령시로21길 29',\n",
       " '대한민국 서울특별시 마포구 아현동 618-1',\n",
       " '대한민국 서울특별시 영등포구 당산동3가 2-11',\n",
       " '대한민국 서울특별시 성동구 행당1동 왕십리광장로 9',\n",
       " '대한민국 서울특별시 동작구 노량진동 72',\n",
       " '대한민국 서울특별시 광진구 구의1동 자양로 167',\n",
       " '대한민국 서울특별시 은평구 대조동 통일로 757',\n",
       " '대한민국 서울특별시 강북구 번1동 415-15',\n",
       " '대한민국 서울특별시 관악구 신림동 544',\n",
       " '대한민국 서울특별시 중랑구 신내1동 신내역로3길 40-10',\n",
       " '대한민국 서울특별시 강남구 대치동 998',\n",
       " '대한민국 서울특별시 관악구 봉천동',\n",
       " '대한민국 서울특별시 양천구 신월동 화곡로 73',\n",
       " '대한민국 서울특별시 강동구 성내1동 성내로 57',\n",
       " '대한민국 서울특별시 성북구 종암동 종암로 135',\n",
       " '대한민국 서울특별시 구로구 가마산로 235',\n",
       " '대한민국 서울특별시 서초구 서초3동 반포대로 179',\n",
       " '대한민국 서울특별시 양천구 신정6동 목동동로 99',\n",
       " '대한민국 서울특별시 송파구 가락본동 9',\n",
       " '대한민국 서울특별시 노원구 하계동 노원로 283',\n",
       " '대한민국 서울특별시 서초구 방배2동 방배천로 54',\n",
       " '대한민국 서울특별시 은평구 불광2동 연서로 365',\n",
       " '대한민국 서울특별시 도봉구 창4동 노해로 403',\n",
       " '대한민국 서울특별시 강남구 개포동 개포로 617']"
      ]
     },
     "execution_count": 11,
     "metadata": {},
     "output_type": "execute_result"
    }
   ],
   "source": [
    "station_addreess"
   ]
  },
  {
   "cell_type": "code",
   "execution_count": 12,
   "metadata": {},
   "outputs": [
    {
     "data": {
      "text/plain": [
       "[37.5636465,\n",
       " 37.5755578,\n",
       " 37.5547584,\n",
       " 37.5647848,\n",
       " 37.5718401,\n",
       " 37.5411211,\n",
       " 37.5897271,\n",
       " 37.58506149999999,\n",
       " 37.550814,\n",
       " 37.5257884,\n",
       " 37.5617309,\n",
       " 37.5130685,\n",
       " 37.542873,\n",
       " 37.6128611,\n",
       " 37.6373881,\n",
       " 37.4814051,\n",
       " 37.618692,\n",
       " 37.5094352,\n",
       " 37.4743789,\n",
       " 37.5397827,\n",
       " 37.528511,\n",
       " 37.6020592,\n",
       " 37.494931,\n",
       " 37.4956054,\n",
       " 37.5165667,\n",
       " 37.5019065,\n",
       " 37.6423605,\n",
       " 37.4815453,\n",
       " 37.6283597,\n",
       " 37.6533589,\n",
       " 37.49349]"
      ]
     },
     "execution_count": 12,
     "metadata": {},
     "output_type": "execute_result"
    }
   ],
   "source": [
    "station_lat"
   ]
  },
  {
   "cell_type": "code",
   "execution_count": 13,
   "metadata": {
    "scrolled": true
   },
   "outputs": [
    {
     "data": {
      "text/plain": [
       "[126.9895796,\n",
       " 126.9848674,\n",
       " 126.9734981,\n",
       " 126.9667762,\n",
       " 126.9988562,\n",
       " 126.9676935,\n",
       " 127.0161318,\n",
       " 127.0457679,\n",
       " 126.954028,\n",
       " 126.901006,\n",
       " 127.0363806,\n",
       " 126.9428078,\n",
       " 127.083821,\n",
       " 126.9274951,\n",
       " 127.0273238,\n",
       " 126.9099508,\n",
       " 127.1047136,\n",
       " 127.0669578,\n",
       " 126.9509748,\n",
       " 126.8299968,\n",
       " 127.1268224,\n",
       " 127.0321577,\n",
       " 126.886731,\n",
       " 127.0052504,\n",
       " 126.8656763,\n",
       " 127.1271513,\n",
       " 127.0714027,\n",
       " 126.9829992,\n",
       " 126.9287226,\n",
       " 127.052682,\n",
       " 127.0772119]"
      ]
     },
     "execution_count": 13,
     "metadata": {},
     "output_type": "execute_result"
    }
   ],
   "source": [
    "station_lng"
   ]
  },
  {
   "cell_type": "code",
   "execution_count": 17,
   "metadata": {},
   "outputs": [
    {
     "data": {
      "text/plain": [
       "31"
      ]
     },
     "execution_count": 17,
     "metadata": {},
     "output_type": "execute_result"
    }
   ],
   "source": [
    "len(station_lat)"
   ]
  },
  {
   "cell_type": "code",
   "execution_count": 18,
   "metadata": {},
   "outputs": [
    {
     "data": {
      "text/html": [
       "<div style=\"width:100%;\"><div style=\"position:relative;width:100%;height:0;padding-bottom:60%;\"><iframe src=\"data:text/html;charset=utf-8;base64,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\" style=\"position:absolute;width:100%;height:100%;left:0;top:0;border:none !important;\" allowfullscreen webkitallowfullscreen mozallowfullscreen></iframe></div></div>"
      ],
      "text/plain": [
       "<folium.folium.Map at 0x174792b0>"
      ]
     },
     "execution_count": 18,
     "metadata": {},
     "output_type": "execute_result"
    }
   ],
   "source": [
    "import folium \n",
    "map_1 = folium.Map(location=[37.5502, 126.982], zoom_start=11, \n",
    "                 tiles='Stamen Toner')\n",
    "for i in range(len(station_lat)):\n",
    "    folium.Marker([station_lat[i],station_lng[i]], popup='Mt. Hood Meadows').add_to(map_1)\n",
    "map_1\n"
   ]
  },
  {
   "cell_type": "code",
   "execution_count": 22,
   "metadata": {},
   "outputs": [],
   "source": [
    "import folium\n",
    "import pandas as pd"
   ]
  },
  {
   "cell_type": "code",
   "execution_count": 23,
   "metadata": {},
   "outputs": [],
   "source": [
    "import json\n",
    "geo_path = '02. skorea_municipalities_geo_simple.json'\n",
    "geo_str = json.load(open(geo_path, encoding='utf-8'))"
   ]
  },
  {
   "cell_type": "code",
   "execution_count": 29,
   "metadata": {},
   "outputs": [
    {
     "data": {
      "text/html": [
       "<div style=\"width:100%;\"><div style=\"position:relative;width:100%;height:0;padding-bottom:60%;\"><iframe src=\"data:text/html;charset=utf-8;base64,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\" style=\"position:absolute;width:100%;height:100%;left:0;top:0;border:none !important;\" allowfullscreen webkitallowfullscreen mozallowfullscreen></iframe></div></div>"
      ],
      "text/plain": [
       "<folium.folium.Map at 0x17529c18>"
      ]
     },
     "execution_count": 29,
     "metadata": {},
     "output_type": "execute_result"
    }
   ],
   "source": [
    "map = folium.Map(location=[37.5502, 126.982], zoom_start=11, \n",
    "                 tiles='Stamen Toner')\n",
    "\n",
    "#살인에 대한 정보를 아래 지도처럼 표현하세요. 옵션으로 fill_color = 'PuRd' 를 주세요. \n",
    "\n",
    "map.choropleth(geo_data = geo_str,\n",
    "               data = crime_anal_police['강도 발생'],\n",
    "               columns = [crime_anal_police.index, crime_anal_police['강도 발생']],\n",
    "               fill_color = 'PuRd', #PuRd, YlGnBu\n",
    "               key_on = 'feature.id')\n",
    "map"
   ]
  },
  {
   "cell_type": "code",
   "execution_count": 27,
   "metadata": {},
   "outputs": [
    {
     "data": {
      "text/plain": [
       "0      3\n",
       "1      6\n",
       "2      6\n",
       "3      5\n",
       "4      5\n",
       "5     14\n",
       "6      2\n",
       "7     13\n",
       "8     14\n",
       "9     22\n",
       "10     9\n",
       "11     9\n",
       "12    14\n",
       "13     2\n",
       "14    14\n",
       "15     6\n",
       "16    11\n",
       "17    15\n",
       "18    12\n",
       "19    13\n",
       "20     6\n",
       "21     3\n",
       "22    15\n",
       "23     8\n",
       "24     6\n",
       "25    13\n",
       "26     7\n",
       "27     1\n",
       "28     7\n",
       "29     9\n",
       "30     6\n",
       "Name: 강도 발생, dtype: int64"
      ]
     },
     "execution_count": 27,
     "metadata": {},
     "output_type": "execute_result"
    }
   ],
   "source": []
  },
  {
   "cell_type": "code",
   "execution_count": null,
   "metadata": {
    "collapsed": true
   },
   "outputs": [],
   "source": []
  }
 ],
 "metadata": {
  "anaconda-cloud": {},
  "kernelspec": {
   "display_name": "Python 3",
   "language": "python",
   "name": "python3"
  },
  "language_info": {
   "codemirror_mode": {
    "name": "ipython",
    "version": 3
   },
   "file_extension": ".py",
   "mimetype": "text/x-python",
   "name": "python",
   "nbconvert_exporter": "python",
   "pygments_lexer": "ipython3",
   "version": "3.6.5"
  }
 },
 "nbformat": 4,
 "nbformat_minor": 1
}
