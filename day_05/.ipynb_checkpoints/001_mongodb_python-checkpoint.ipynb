{
 "cells": [
  {
   "cell_type": "code",
   "execution_count": 1,
   "metadata": {},
   "outputs": [],
   "source": [
    "from pymongo import MongoClient"
   ]
  },
  {
   "cell_type": "code",
   "execution_count": 3,
   "metadata": {},
   "outputs": [],
   "source": [
    "client = MongoClient('localhost',27017)"
   ]
  },
  {
   "cell_type": "code",
   "execution_count": 4,
   "metadata": {},
   "outputs": [],
   "source": [
    "db = client.test"
   ]
  },
  {
   "cell_type": "code",
   "execution_count": 5,
   "metadata": {},
   "outputs": [],
   "source": [
    "collection = db.stud"
   ]
  },
  {
   "cell_type": "code",
   "execution_count": 8,
   "metadata": {},
   "outputs": [],
   "source": [
    "s = collection.find()"
   ]
  },
  {
   "cell_type": "code",
   "execution_count": 9,
   "metadata": {},
   "outputs": [
    {
     "name": "stdout",
     "output_type": "stream",
     "text": [
      "{'_id': ObjectId('5ae287af941034adaf5c410a'), 'sno': 1101.0, 'name': 'hjkim'}\n",
      "{'_id': ObjectId('5ae28812941034adaf5c410b'), 'sno': 1102.0, 'name': 'lee', 'gender': '여'}\n",
      "{'_id': ObjectId('5ae2881f941034adaf5c410c'), 'sno': 1101.0, 'name': 'park'}\n"
     ]
    }
   ],
   "source": [
    "for x in s:\n",
    "    print(x)"
   ]
  },
  {
   "cell_type": "code",
   "execution_count": 10,
   "metadata": {},
   "outputs": [
    {
     "data": {
      "text/plain": [
       "<pymongo.results.InsertOneResult at 0x4f76c08>"
      ]
     },
     "execution_count": 10,
     "metadata": {},
     "output_type": "execute_result"
    }
   ],
   "source": [
    "collection.insert_one({'sno':222, 'name':'john'})"
   ]
  },
  {
   "cell_type": "code",
   "execution_count": 11,
   "metadata": {},
   "outputs": [],
   "source": [
    "result = collection.find()"
   ]
  },
  {
   "cell_type": "code",
   "execution_count": 12,
   "metadata": {},
   "outputs": [
    {
     "name": "stdout",
     "output_type": "stream",
     "text": [
      "{'_id': ObjectId('5ae287af941034adaf5c410a'), 'sno': 1101.0, 'name': 'hjkim'}\n",
      "{'_id': ObjectId('5ae28812941034adaf5c410b'), 'sno': 1102.0, 'name': 'lee', 'gender': '여'}\n",
      "{'_id': ObjectId('5ae2881f941034adaf5c410c'), 'sno': 1101.0, 'name': 'park'}\n",
      "{'_id': ObjectId('5ae2b4c1601bea112c8df1e0'), 'sno': 222, 'name': 'john'}\n"
     ]
    }
   ],
   "source": [
    "for x in result:\n",
    "    print(x)"
   ]
  },
  {
   "cell_type": "code",
   "execution_count": 13,
   "metadata": {},
   "outputs": [
    {
     "data": {
      "text/plain": [
       "<pymongo.results.InsertManyResult at 0x4fa26c8>"
      ]
     },
     "execution_count": 13,
     "metadata": {},
     "output_type": "execute_result"
    }
   ],
   "source": [
    "collection.insert_many([{'sno':333, 'name':'kwon'}, \n",
    "                        {'sno':444, 'name':'jung'},\n",
    "                        {'sno':555, 'name':'moon'}])"
   ]
  },
  {
   "cell_type": "code",
   "execution_count": 14,
   "metadata": {},
   "outputs": [
    {
     "name": "stdout",
     "output_type": "stream",
     "text": [
      "{'_id': ObjectId('5ae287af941034adaf5c410a'), 'sno': 1101.0, 'name': 'hjkim'}\n",
      "{'_id': ObjectId('5ae28812941034adaf5c410b'), 'sno': 1102.0, 'name': 'lee', 'gender': '여'}\n",
      "{'_id': ObjectId('5ae2881f941034adaf5c410c'), 'sno': 1101.0, 'name': 'park'}\n",
      "{'_id': ObjectId('5ae2b4c1601bea112c8df1e0'), 'sno': 222, 'name': 'john'}\n",
      "{'_id': ObjectId('5ae2b538601bea112c8df1e1'), 'sno': 333, 'name': 'kwon'}\n",
      "{'_id': ObjectId('5ae2b538601bea112c8df1e2'), 'sno': 444, 'name': 'jung'}\n",
      "{'_id': ObjectId('5ae2b538601bea112c8df1e3'), 'sno': 555, 'name': 'moon'}\n"
     ]
    }
   ],
   "source": [
    "result = collection.find()\n",
    "for x in result:\n",
    "    print(x)"
   ]
  },
  {
   "cell_type": "raw",
   "metadata": {},
   "source": []
  }
 ],
 "metadata": {
  "kernelspec": {
   "display_name": "Python 3",
   "language": "python",
   "name": "python3"
  },
  "language_info": {
   "codemirror_mode": {
    "name": "ipython",
    "version": 3
   },
   "file_extension": ".py",
   "mimetype": "text/x-python",
   "name": "python",
   "nbconvert_exporter": "python",
   "pygments_lexer": "ipython3",
   "version": "3.6.5"
  }
 },
 "nbformat": 4,
 "nbformat_minor": 2
}
