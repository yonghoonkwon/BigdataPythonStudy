{
 "cells": [
  {
   "cell_type": "code",
   "execution_count": 1,
   "metadata": {},
   "outputs": [
    {
     "name": "stdout",
     "output_type": "stream",
     "text": [
      "[{'name': 'Banana', 'price': 6000}, {'name': 'Orange', 'price': 12000}, {'name': 'Mango', 'price': 8400}]\n"
     ]
    }
   ],
   "source": [
    "from tinydb import TinyDB, Query\n",
    "filepath = 'test_tynydb.json'\n",
    "db = TinyDB(filepath)\n",
    "db.purge_table('fruits')\n",
    "table = db.table('fruits')\n",
    "\n",
    "table.insert({'name': 'Banana', 'price':6000})\n",
    "table.insert({'name': 'Orange', 'price':12000})\n",
    "table.insert({'name': 'Mango', 'price':8400})\n",
    "print (table.all())\n"
   ]
  },
  {
   "cell_type": "code",
   "execution_count": 6,
   "metadata": {},
   "outputs": [
    {
     "name": "stdout",
     "output_type": "stream",
     "text": [
      "The price of orange is 12000 won\n",
      "가격이 8000원 이상인 것:\n",
      "- Orange\n",
      "- Mango\n"
     ]
    }
   ],
   "source": [
    "Item = Query()\n",
    "res = table.search(Item.name == 'Orange')\n",
    "print('The price of orange is %d won'%(res[0]['price']))\n",
    "\n",
    "# 가격이 8000원 이상인 것 추출\n",
    "print('가격이 8000원 이상인 것:')\n",
    "res = table.search(Item.price >= 8000)\n",
    "for it in res:\n",
    "    print('-', it['name'])\n"
   ]
  },
  {
   "cell_type": "code",
   "execution_count": null,
   "metadata": {},
   "outputs": [],
   "source": []
  }
 ],
 "metadata": {
  "kernelspec": {
   "display_name": "Python 3",
   "language": "python",
   "name": "python3"
  },
  "language_info": {
   "codemirror_mode": {
    "name": "ipython",
    "version": 3
   },
   "file_extension": ".py",
   "mimetype": "text/x-python",
   "name": "python",
   "nbconvert_exporter": "python",
   "pygments_lexer": "ipython3",
   "version": "3.6.5"
  }
 },
 "nbformat": 4,
 "nbformat_minor": 2
}
