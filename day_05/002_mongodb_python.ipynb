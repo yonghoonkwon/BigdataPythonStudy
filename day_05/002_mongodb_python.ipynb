{
 "cells": [
  {
   "cell_type": "code",
   "execution_count": 2,
   "metadata": {},
   "outputs": [
    {
     "data": {
      "text/plain": [
       "<pymongo.results.DeleteResult at 0x53d6348>"
      ]
     },
     "execution_count": 2,
     "metadata": {},
     "output_type": "execute_result"
    }
   ],
   "source": [
    "from pymongo import MongoClient\n",
    "client = MongoClient('localhost',27017)\n",
    "db = client.scrapying\n",
    "collection = db.best\n",
    "collection.delete_many({})"
   ]
  },
  {
   "cell_type": "code",
   "execution_count": 3,
   "metadata": {},
   "outputs": [
    {
     "name": "stdout",
     "output_type": "stream",
     "text": [
      "[Add] title: 우리 기억 잃어버리지 않게, url: http://www.yes24.com/24/goods/59673203\n",
      "[Add] title: 곰돌이 푸, 행복한 일은 매일 있어, url: http://www.yes24.com/24/goods/59070026\n",
      "[Add] title: 모든 순간이 너였다, url: http://www.yes24.com/24/goods/58603565\n",
      "[Add] title: 무례한 사람에게 웃으며 대처하는 법, url: http://www.yes24.com/24/goods/57817824\n",
      "[Add] title: 설민석의 한국사 대모험 6, url: http://www.yes24.com/24/goods/59382931\n",
      "[Add] title: [예약판매] 유튜브의 신 (친필사인본), url: http://www.yes24.com/24/goods/60222068\n",
      "[Add] title: 엄마의 말하기 연습, url: http://www.yes24.com/24/goods/58998723\n",
      "[Add] title: 나는 둔감하게 살기로 했다, url: http://www.yes24.com/24/goods/59618221\n",
      "[Add] title: 추사 김정희, url: http://www.yes24.com/24/goods/59257820\n",
      "[Add] title: 82년생 김지영, url: http://www.yes24.com/24/goods/32972572\n"
     ]
    }
   ],
   "source": [
    "from bs4 import BeautifulSoup\n",
    "from urllib.request import urlopen\n",
    "\n",
    "URL = 'http://www.yes24.com/Mall/Main/Book/001?CategoryNumber=001'\n",
    "html = urlopen(URL)\n",
    "soup = BeautifulSoup(html, 'html.parser')\n",
    "datas = soup.find_all(class_=\"rnk_name\")\n",
    "\n",
    "for data in datas:\n",
    "    url = data.a['href']\n",
    "    title = data.a.string\n",
    "    print('[Add] title: {}, url: {}'.format(title, url))\n",
    "    collection.insert_one({'title':title, 'url':url})\n",
    "    "
   ]
  },
  {
   "cell_type": "code",
   "execution_count": null,
   "metadata": {},
   "outputs": [],
   "source": []
  }
 ],
 "metadata": {
  "kernelspec": {
   "display_name": "Python 3",
   "language": "python",
   "name": "python3"
  },
  "language_info": {
   "codemirror_mode": {
    "name": "ipython",
    "version": 3
   },
   "file_extension": ".py",
   "mimetype": "text/x-python",
   "name": "python",
   "nbconvert_exporter": "python",
   "pygments_lexer": "ipython3",
   "version": "3.6.5"
  }
 },
 "nbformat": 4,
 "nbformat_minor": 2
}
