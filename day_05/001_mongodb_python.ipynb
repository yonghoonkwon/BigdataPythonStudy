{
 "cells": [
  {
   "cell_type": "code",
   "execution_count": 1,
   "metadata": {},
   "outputs": [],
   "source": [
    "from pymongo import MongoClient"
   ]
  },
  {
   "cell_type": "code",
   "execution_count": 2,
   "metadata": {},
   "outputs": [],
   "source": [
    "client = MongoClient('localhost',27017)"
   ]
  },
  {
   "cell_type": "code",
   "execution_count": 3,
   "metadata": {},
   "outputs": [],
   "source": [
    "db = client.test"
   ]
  },
  {
   "cell_type": "code",
   "execution_count": 4,
   "metadata": {},
   "outputs": [],
   "source": [
    "collection = db.stud"
   ]
  },
  {
   "cell_type": "code",
   "execution_count": 5,
   "metadata": {},
   "outputs": [],
   "source": [
    "s = collection.find()"
   ]
  },
  {
   "cell_type": "code",
   "execution_count": 6,
   "metadata": {},
   "outputs": [
    {
     "name": "stdout",
     "output_type": "stream",
     "text": [
      "{'_id': ObjectId('5ae287af941034adaf5c410a'), 'sno': 1101.0, 'name': 'hjkim'}\n",
      "{'_id': ObjectId('5ae28812941034adaf5c410b'), 'sno': 1102.0, 'name': 'lee', 'gender': '여'}\n",
      "{'_id': ObjectId('5ae2881f941034adaf5c410c'), 'sno': 1101.0, 'name': 'park'}\n",
      "{'_id': ObjectId('5ae2b4c1601bea112c8df1e0'), 'sno': 222, 'name': 'john'}\n",
      "{'_id': ObjectId('5ae2b538601bea112c8df1e1'), 'sno': 333, 'name': 'kwon'}\n",
      "{'_id': ObjectId('5ae2b538601bea112c8df1e2'), 'sno': 444, 'name': 'jung'}\n",
      "{'_id': ObjectId('5ae2b538601bea112c8df1e3'), 'sno': 555, 'name': 'moon'}\n"
     ]
    }
   ],
   "source": [
    "for x in s:\n",
    "    print(x)"
   ]
  },
  {
   "cell_type": "code",
   "execution_count": 7,
   "metadata": {},
   "outputs": [
    {
     "data": {
      "text/plain": [
       "<pymongo.results.InsertOneResult at 0x4ed9b08>"
      ]
     },
     "execution_count": 7,
     "metadata": {},
     "output_type": "execute_result"
    }
   ],
   "source": [
    "collection.insert_one({'sno':222, 'name':'john'})"
   ]
  },
  {
   "cell_type": "code",
   "execution_count": 8,
   "metadata": {},
   "outputs": [],
   "source": [
    "result = collection.find()"
   ]
  },
  {
   "cell_type": "code",
   "execution_count": 9,
   "metadata": {},
   "outputs": [
    {
     "name": "stdout",
     "output_type": "stream",
     "text": [
      "{'_id': ObjectId('5ae287af941034adaf5c410a'), 'sno': 1101.0, 'name': 'hjkim'}\n",
      "{'_id': ObjectId('5ae28812941034adaf5c410b'), 'sno': 1102.0, 'name': 'lee', 'gender': '여'}\n",
      "{'_id': ObjectId('5ae2881f941034adaf5c410c'), 'sno': 1101.0, 'name': 'park'}\n",
      "{'_id': ObjectId('5ae2b4c1601bea112c8df1e0'), 'sno': 222, 'name': 'john'}\n",
      "{'_id': ObjectId('5ae2b538601bea112c8df1e1'), 'sno': 333, 'name': 'kwon'}\n",
      "{'_id': ObjectId('5ae2b538601bea112c8df1e2'), 'sno': 444, 'name': 'jung'}\n",
      "{'_id': ObjectId('5ae2b538601bea112c8df1e3'), 'sno': 555, 'name': 'moon'}\n",
      "{'_id': ObjectId('5ae2b9fa601bea11c4696ee7'), 'sno': 222, 'name': 'john'}\n"
     ]
    }
   ],
   "source": [
    "for x in result:\n",
    "    print(x)"
   ]
  },
  {
   "cell_type": "code",
   "execution_count": 10,
   "metadata": {},
   "outputs": [
    {
     "data": {
      "text/plain": [
       "<pymongo.results.InsertManyResult at 0x491ec88>"
      ]
     },
     "execution_count": 10,
     "metadata": {},
     "output_type": "execute_result"
    }
   ],
   "source": [
    "collection.insert_many([{'sno':333, 'name':'kwon'}, \n",
    "                        {'sno':444, 'name':'jung'},\n",
    "                        {'sno':555, 'name':'moon'}])"
   ]
  },
  {
   "cell_type": "code",
   "execution_count": 11,
   "metadata": {},
   "outputs": [
    {
     "name": "stdout",
     "output_type": "stream",
     "text": [
      "{'_id': ObjectId('5ae287af941034adaf5c410a'), 'sno': 1101.0, 'name': 'hjkim'}\n",
      "{'_id': ObjectId('5ae28812941034adaf5c410b'), 'sno': 1102.0, 'name': 'lee', 'gender': '여'}\n",
      "{'_id': ObjectId('5ae2881f941034adaf5c410c'), 'sno': 1101.0, 'name': 'park'}\n",
      "{'_id': ObjectId('5ae2b4c1601bea112c8df1e0'), 'sno': 222, 'name': 'john'}\n",
      "{'_id': ObjectId('5ae2b538601bea112c8df1e1'), 'sno': 333, 'name': 'kwon'}\n",
      "{'_id': ObjectId('5ae2b538601bea112c8df1e2'), 'sno': 444, 'name': 'jung'}\n",
      "{'_id': ObjectId('5ae2b538601bea112c8df1e3'), 'sno': 555, 'name': 'moon'}\n",
      "{'_id': ObjectId('5ae2b9fa601bea11c4696ee7'), 'sno': 222, 'name': 'john'}\n",
      "{'_id': ObjectId('5ae2b9fa601bea11c4696ee8'), 'sno': 333, 'name': 'kwon'}\n",
      "{'_id': ObjectId('5ae2b9fa601bea11c4696ee9'), 'sno': 444, 'name': 'jung'}\n",
      "{'_id': ObjectId('5ae2b9fa601bea11c4696eea'), 'sno': 555, 'name': 'moon'}\n"
     ]
    }
   ],
   "source": [
    "result = collection.find()\n",
    "for x in result:\n",
    "    print(x)"
   ]
  },
  {
   "cell_type": "code",
   "execution_count": 12,
   "metadata": {},
   "outputs": [
    {
     "name": "stdout",
     "output_type": "stream",
     "text": [
      "{'_id': ObjectId('5ae2b538601bea112c8df1e1'), 'sno': 333, 'name': 'kwon'}\n",
      "{'_id': ObjectId('5ae2b9fa601bea11c4696ee8'), 'sno': 333, 'name': 'kwon'}\n"
     ]
    }
   ],
   "source": [
    "result = collection.find({'sno':333})\n",
    "for x in result:\n",
    "    print(x)"
   ]
  },
  {
   "cell_type": "code",
   "execution_count": 13,
   "metadata": {},
   "outputs": [],
   "source": [
    "collection = db.book"
   ]
  },
  {
   "cell_type": "code",
   "execution_count": 31,
   "metadata": {},
   "outputs": [
    {
     "data": {
      "text/plain": [
       "<pymongo.results.InsertManyResult at 0x4f09ec8>"
      ]
     },
     "execution_count": 31,
     "metadata": {},
     "output_type": "execute_result"
    }
   ],
   "source": [
    "collection.insert_many([{'title':'python', 'author':'kim'},\n",
    "                      {'title':'bigdata', 'author':'park'},\n",
    "                      {'title':'db', 'author':'joe'},\n",
    "                      {'title':'java', 'author':'lee'}])"
   ]
  },
  {
   "cell_type": "code",
   "execution_count": 32,
   "metadata": {},
   "outputs": [
    {
     "name": "stdout",
     "output_type": "stream",
     "text": [
      "{'_id': ObjectId('5ae2ba5e601bea11c4696eef'), 'title': 'python', 'author': 'kim'}\n",
      "{'_id': ObjectId('5ae2ba5e601bea11c4696ef0'), 'title': 'bigdata', 'author': 'park'}\n",
      "{'_id': ObjectId('5ae2ba5e601bea11c4696ef1'), 'title': 'db', 'author': 'joe'}\n",
      "{'_id': ObjectId('5ae2ba5e601bea11c4696ef2'), 'title': 'java', 'author': 'lee'}\n"
     ]
    }
   ],
   "source": [
    "result = collection.find()\n",
    "for x in result:\n",
    "    print(x)"
   ]
  },
  {
   "cell_type": "code",
   "execution_count": 33,
   "metadata": {},
   "outputs": [
    {
     "name": "stdout",
     "output_type": "stream",
     "text": [
      "{'_id': ObjectId('5ae2ba5e601bea11c4696ef1'), 'title': 'db', 'author': 'joe'}\n"
     ]
    }
   ],
   "source": [
    "result = collection.find({'title':'db'})\n",
    "for x in result:\n",
    "    print(x)"
   ]
  },
  {
   "cell_type": "code",
   "execution_count": 34,
   "metadata": {},
   "outputs": [
    {
     "name": "stdout",
     "output_type": "stream",
     "text": [
      "{'_id': ObjectId('5ae2ba5e601bea11c4696eef'), 'title': 'python', 'author': 'kim'}\n",
      "{'_id': ObjectId('5ae2ba5e601bea11c4696ef0'), 'title': 'bigdata', 'author': 'park'}\n",
      "{'_id': ObjectId('5ae2ba5e601bea11c4696ef1'), 'title': 'db', 'author': 'joe'}\n",
      "{'_id': ObjectId('5ae2ba5e601bea11c4696ef2'), 'title': 'java', 'author': 'lee'}\n"
     ]
    }
   ],
   "source": [
    "collection.update_one({'title':'python2'},{'$set':{'author':'kim'}})\n",
    "result = collection.find()\n",
    "for x in result:\n",
    "    print(x)"
   ]
  },
  {
   "cell_type": "code",
   "execution_count": 35,
   "metadata": {},
   "outputs": [
    {
     "name": "stdout",
     "output_type": "stream",
     "text": [
      "{'_id': ObjectId('5ae2ba5e601bea11c4696ef0'), 'title': 'bigdata', 'author': 'park'}\n",
      "{'_id': ObjectId('5ae2ba5e601bea11c4696ef1'), 'title': 'db', 'author': 'joe'}\n",
      "{'_id': ObjectId('5ae2ba5e601bea11c4696ef2'), 'title': 'java', 'author': 'lee'}\n"
     ]
    }
   ],
   "source": [
    "collection.delete_one({'title':'python'})\n",
    "result = collection.find()\n",
    "for x in result:\n",
    "    print(x)"
   ]
  }
 ],
 "metadata": {
  "kernelspec": {
   "display_name": "Python 3",
   "language": "python",
   "name": "python3"
  },
  "language_info": {
   "codemirror_mode": {
    "name": "ipython",
    "version": 3
   },
   "file_extension": ".py",
   "mimetype": "text/x-python",
   "name": "python",
   "nbconvert_exporter": "python",
   "pygments_lexer": "ipython3",
   "version": "3.6.5"
  }
 },
 "nbformat": 4,
 "nbformat_minor": 2
}
